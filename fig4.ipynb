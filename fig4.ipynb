{
 "cells": [
  {
   "cell_type": "code",
   "execution_count": null,
   "metadata": {},
   "outputs": [],
   "source": [
    "from utils import *\n",
    "import pickle\n",
    "import datetime\n",
    "import scipy\n",
    "from scipy.optimize import minimize"
   ]
  },
  {
   "cell_type": "code",
   "execution_count": null,
   "metadata": {},
   "outputs": [],
   "source": [
    "params=Parameters(B=0., u=100., Tl=1., Tr=1., gamma=0.25, kerntype='RTD', dband=1e4, countingleads=[0,2])"
   ]
  },
  {
   "cell_type": "code",
   "execution_count": null,
   "metadata": {},
   "outputs": [],
   "source": [
    "def power(Vs,params):\n",
    "    vg,vb = Vs\n",
    "    system = anderson(vg,vb,params)\n",
    "    system.solve()\n",
    "    return -vb*np.sum(system.current[[0,2]])"
   ]
  },
  {
   "cell_type": "code",
   "execution_count": null,
   "metadata": {},
   "outputs": [],
   "source": [
    "\n",
    "if __name__ == '__main__':\n",
    "    Pmax = []\n",
    "    params=Parameters(B=0., u=100., Tl=1., Tr=1., gamma=.25, kerntype='RTD', dband=1e4, countingleads=[0,2])\n",
    "    for dT in tqdm(np.linspace(0.05,3,50), desc='dT'):\n",
    "        params.Tl = 1+dT\n",
    "        res = dT, minimize( lambda x: -power(x,params), [-1,-1],tol=1e-8, options={'maxiter':200})\n",
    "        Pmax.append(res)\n",
    "        #print(dT, res[1].x, -res[1].fun)"
   ]
  },
  {
   "cell_type": "code",
   "execution_count": null,
   "metadata": {},
   "outputs": [],
   "source": [
    "\n",
    "if __name__ == '__main__':\n",
    "    Pmax_pauli = []\n",
    "    params=Parameters(B=0., u=100., Tl=1., Tr=1., gamma=.25, kerntype='Pauli', dband=1e4, countingleads=[0,2])\n",
    "    for dT in tqdm(np.linspace(0.05,3,50), desc='dT'):\n",
    "        params.Tl = 1+dT\n",
    "        res = dT, minimize( lambda x: -power(x,params), [-1,-1],tol=1e-8, options={'maxiter':200})\n",
    "        Pmax_pauli.append(res)\n",
    "        #print(dT, res[1].x, -res[1].fun)"
   ]
  },
  {
   "cell_type": "code",
   "execution_count": null,
   "metadata": {},
   "outputs": [],
   "source": [
    "\n",
    "if __name__ == '__main__':\n",
    "    Pmax_pauli_u0 = []\n",
    "    params=Parameters(B=0., u=0., Tl=1., Tr=1., gamma=.25, kerntype='Pauli', dband=1e4, countingleads=[0,2])\n",
    "    for dT in tqdm(np.linspace(0.05,3,50), desc='dT'):\n",
    "        params.Tl = 1+dT\n",
    "        res = dT, minimize( lambda x: -power(x,params), [-1,-1],tol=1e-8, options={'maxiter':200})\n",
    "        Pmax_pauli_u0.append(res)\n",
    "        #print(dT, res[1].x, -res[1].fun)"
   ]
  },
  {
   "cell_type": "code",
   "execution_count": null,
   "metadata": {},
   "outputs": [],
   "source": [
    "\n",
    "if __name__ == '__main__':\n",
    "    Pmax_u0 = []\n",
    "    params=Parameters(B=0., u=0., Tl=1., Tr=1., gamma=.25, kerntype='RTD', dband=1e4, countingleads=[0,2])\n",
    "    for dT in tqdm(np.linspace(0.05,3,50), desc='dT'):\n",
    "        params.Tl = 1+dT\n",
    "        res = dT, minimize( lambda x: -power(x,params), [-1,-1],tol=1e-8, options={'maxiter':200})\n",
    "        Pmax_u0.append(res)\n",
    "        #print(dT, res[1].x, -res[1].fun)"
   ]
  },
  {
   "cell_type": "code",
   "execution_count": null,
   "metadata": {},
   "outputs": [],
   "source": [
    "if __name__ == '__main__':\n",
    "    Pmax_lb = []\n",
    "    for dT in tqdm(np.linspace(0.05,3,50), desc='dT'):\n",
    "        res = dT, minimize( lambda x: x[1]*SRL_exact(.25,x[0],x[1],1.+dT,1.,dband=1e2)[0], [-1,-1],tol=1e-8, options={'maxiter':200})\n",
    "        Pmax_lb.append(res)"
   ]
  },
  {
   "cell_type": "code",
   "execution_count": null,
   "metadata": {},
   "outputs": [],
   "source": [
    "timestamp = datetime.datetime.now().strftime(\"%Y%m%d%H%M%S\")\n",
    "# pickle Pmax\n",
    "with open(timestamp+'Pmax_outside_coulomb.pkl', 'wb') as f:\n",
    "    pickle.dump(Pmax, f)\n",
    "with open(timestamp+'Pmax_pauli_outside_coulomb.pkl', 'wb') as f:\n",
    "    pickle.dump(Pmax_pauli, f)\n",
    "with open(timestamp+'Pmax_u0_outside_coulomb.pkl', 'wb') as f:\n",
    "    pickle.dump(Pmax_u0, f)\n",
    "with open(timestamp+'Pmax_lb_outside_coulomb.pkl', 'wb') as f:\n",
    "    pickle.dump(Pmax_lb, f)\n",
    "with open(timestamp+'Pmax_pauli_u0_outside_coulomb.pkl', 'wb') as f:\n",
    "    pickle.dump(Pmax_pauli_u0, f)\n"
   ]
  },
  {
   "cell_type": "code",
   "execution_count": null,
   "metadata": {},
   "outputs": [],
   "source": [
    "#timestamp = '20240902142354'\n",
    "files = [timestamp+'Pmax_outside_coulomb.pkl', timestamp+'Pmax_pauli_outside_coulomb.pkl', timestamp+'Pmax_u0_outside_coulomb.pkl', timestamp+'Pmax_lb_outside_coulomb.pkl', timestamp+'Pmax_pauli_u0_outside_coulomb.pkl']\n",
    "# import data from files\n",
    "#with open(files[0], 'rb') as f:\n",
    "#    Pmax_inside_coulomb = pickle.load(f)\n",
    "with open(files[0], 'rb') as f:\n",
    "    Pmax_outside_coulomb = pickle.load(f)\n",
    "with open(files[1], 'rb') as f:\n",
    "    Pmax_pauli_outside_coulomb = pickle.load(f)\n",
    "with open(files[2], 'rb') as f:\n",
    "    Pmax_u0_outside_coulomb = pickle.load(f)\n",
    "with open(files[3], 'rb') as f:\n",
    "    Pmax_lb_outside_coulomb = pickle.load(f)\n",
    "with open(files[4], 'rb') as f:\n",
    "    Pmax_pauli_u0_outside_coulomb = pickle.load(f)"
   ]
  },
  {
   "cell_type": "code",
   "execution_count": null,
   "metadata": {},
   "outputs": [],
   "source": [
    "dt=np.array([i[0] for i in Pmax_outside_coulomb])\n",
    "Vg_rtd=np.array([i[1].x[0] for i in Pmax_outside_coulomb])\n",
    "Vg_pauli=np.array([i[1].x[0] for i in Pmax_pauli_outside_coulomb])\n",
    "Vg_pauli_u0=np.array([i[1].x[0] for i in Pmax_pauli_u0_outside_coulomb])\n",
    "Vg_u0=np.array([i[1].x[0] for i in Pmax_u0_outside_coulomb])\n",
    "Vg_lb=np.array([i[1].x[0] for i in Pmax_lb_outside_coulomb])\n",
    "Vb_rtd=np.array([i[1].x[1] for i in Pmax_outside_coulomb])\n",
    "Vb_pauli=np.array([i[1].x[1] for i in Pmax_pauli_outside_coulomb])\n",
    "Vb_pauli_u0=np.array([i[1].x[1] for i in Pmax_pauli_u0_outside_coulomb])\n",
    "Vb_u0=np.array([i[1].x[1] for i in Pmax_u0_outside_coulomb])\n",
    "Vb_lb=np.array([i[1].x[1] for i in Pmax_lb_outside_coulomb])\n",
    "params_rtd=[Parameters(B=0., u=100., Tl=1.+dT, Tr=1., gamma=.25, kerntype='pyRTDnoise', dband=1e4, countingleads=[0,2]) for dT in dt]\n",
    "params_pauli=[Parameters(B=0., u=100., Tl=1.+dT, Tr=1., gamma=.25, kerntype='pyPauli', dband=1e4, countingleads=[0,2]) for dT in dt]\n",
    "params_rtd_u0=[Parameters(B=0., u=0., Tl=1.+dT, Tr=1., gamma=.25, kerntype='pyRTDnoise', dband=1e4, countingleads=[0,2]) for dT in dt]\n",
    "params_pauli_u0=[Parameters(B=0., u=0., Tl=1.+dT, Tr=1., gamma=.25, kerntype='pyPauli', dband=1e4, countingleads=[0,2]) for dT in dt]\n",
    "Vb=[Vb_rtd,Vb_pauli,Vb_u0,Vb_pauli_u0,Vb_lb]"
   ]
  },
  {
   "cell_type": "code",
   "execution_count": null,
   "metadata": {},
   "outputs": [],
   "source": [
    "def main(Vg, Vb, params):\n",
    "    with ProcessPoolExecutor() as executor:\n",
    "        results = np.array(list(tqdm(executor.map(solve_bias_gate_p,Vg,Vb,params),total=len(Vg))),dtype=object)\n",
    "    return results\n",
    "\n",
    "def main_srl(Vg,Vb,dt):\n",
    "    with ProcessPoolExecutor() as executor:\n",
    "        results = np.array(list(tqdm(executor.map(SRL_exact,[.25]*len(Vg),Vg,Vb,dt+1.,[1.]*len(Vg)),total=len(Vg))))\n",
    "    return results"
   ]
  },
  {
   "cell_type": "code",
   "execution_count": null,
   "metadata": {},
   "outputs": [],
   "source": [
    "results = main(Vg_rtd, Vb_rtd, params_rtd)"
   ]
  },
  {
   "cell_type": "code",
   "execution_count": null,
   "metadata": {},
   "outputs": [],
   "source": [
    "results_pauli = main(Vg_pauli, Vb_pauli, params_pauli)"
   ]
  },
  {
   "cell_type": "code",
   "execution_count": null,
   "metadata": {},
   "outputs": [],
   "source": [
    "results_rts_u0 = main(Vg_u0, Vb_u0, params_rtd_u0)"
   ]
  },
  {
   "cell_type": "code",
   "execution_count": null,
   "metadata": {},
   "outputs": [],
   "source": [
    "results_srl = main_srl(Vg_lb,Vb_lb,dt)"
   ]
  },
  {
   "cell_type": "code",
   "execution_count": null,
   "metadata": {},
   "outputs": [],
   "source": [
    "results_pauli_u0 = main(Vg_pauli_u0, Vb_pauli_u0, params_pauli_u0)"
   ]
  },
  {
   "cell_type": "markdown",
   "metadata": {},
   "source": [
    "# TUR\n",
    "$2 \\leq \\frac{S}{I}\\frac{V}{T_c}\\frac{n_c-n}{n}$\n",
    "\n",
    "for noise:\n",
    "$ S \\geq 2 I \\frac{T_c}{V} \\frac{n}{n_c-n}$\n",
    "\n",
    "for current:\n",
    "\n",
    "$I \\leq \\frac{S}{2}\\frac{V}{T_c}\\frac{n_c-n}{n}$ if $I>0$\n",
    "\n",
    "$I \\geq \\frac{S}{2}\\frac{V}{T_c}\\frac{n_c-n}{n}$ if $I<0$\n",
    "\n",
    "for efficiency:\n",
    "$ n \\leq \\frac{n_c}{\\frac{2IT_c}{SV}+1}$"
   ]
  },
  {
   "cell_type": "code",
   "execution_count": null,
   "metadata": {},
   "outputs": [],
   "source": [
    "\n",
    "I,S,Q,P,n,TUR,TURS,TURI,TURn = [np.zeros((5,len(dt))) for i in range(9)]\n"
   ]
  },
  {
   "cell_type": "code",
   "execution_count": null,
   "metadata": {},
   "outputs": [],
   "source": [
    "for i,res in enumerate([results, results_pauli, results_rts_u0, results_pauli_u0]):\n",
    "    I[i] = np.array([r[0][0] for r in res]).real\n",
    "    S[i] = np.array([r[0][1] for r in res]).real\n",
    "    Q[i] = np.array([r[2][0]+r[2][2] for r in res]).real\n",
    "    P[i] = - I[i]*Vb[i]\n",
    "    nc=1-1/(1+dt)\n",
    "    n[i] = P[i]/Q[i]\n",
    "    TUR[i]=-S[i]/I[i]*Vb[i]/1*(nc-n[i])/n[i]\n",
    "    TURS[i]=-2*I[i]/Vb[i]*1/(nc-n[i])*n[i]\n",
    "    TURI[i]=-S[i]/2*Vb[i]/1*(nc-n[i])/n[i]\n",
    "    TURn[i]=nc/((-2*I[i]*1)/S[i]/Vb[i]+1)"
   ]
  },
  {
   "cell_type": "code",
   "execution_count": null,
   "metadata": {},
   "outputs": [],
   "source": [
    "I[4]= 2*np.array([res[0] for res in results_srl])\n",
    "S[4] = 2*np.array([res[1] for res in results_srl])\n",
    "Q[4] = 2*np.array([res[2] for res in results_srl])\n",
    "P[4] = -I[4]*Vb[4]\n",
    "n[4] = P[4]/Q[4]\n",
    "TUR[4] = -S[4]/I[4]*Vb[4]/1*(nc-n[4])/n[4]\n",
    "TURS[4] = -2*I[4]/Vb[4]*1/(nc-n[4])*n[4]\n",
    "TURI[4] = -S[4]/2*Vb[4]/1*(nc-n[4])/n[4]\n",
    "TURn[4] = nc/((-2*I[4]*1)/S[4]/Vb[4]+1)"
   ]
  },
  {
   "cell_type": "code",
   "execution_count": null,
   "metadata": {},
   "outputs": [],
   "source": [
    "purples = ['#f7fcfd','#e0ecf4','#bfd3e6','#9ebcda','#8c96c6','#8c6bb1','#88419d','#810f7c','#4d004b']\n",
    "oranges = ['#ffffe5','#fff7bc','#fee391','#fec44f','#fe9929','#ec7014','#cc4c02','#993404','#662506']\n"
   ]
  },
  {
   "cell_type": "code",
   "execution_count": null,
   "metadata": {},
   "outputs": [],
   "source": [
    "plt.rcParams[\"font.family\"] = \"serif\"\n",
    "plt.rcParams[\"mathtext.fontset\"] = \"dejavuserif\"\n",
    "cols=[oranges[5],purples[5],oranges[3],purples[3],'k']\n",
    "labels=['Second order U=100','First order U=100','Second order U=0', 'First order U=0', 'Exact LB U=0']\n",
    "gamma=0.25\n",
    "lss=['-','-','-','-','--'] \n",
    "# set up figure with 6 subplots\n",
    "fig, ax = plt.subplots(2, 3, figsize=(12,6), sharex=True,constrained_layout=True)\n",
    "for i in range(5):\n",
    "    # in first panel plot dt vs TURI and dt vs I\n",
    "    curr = ax[0,0].plot(dt, I[i]/gamma, label='I'+' '+labels[i],color=cols[i], linestyle=lss[i])\n",
    "    #ax[0,0].plot(dt, TURI[i],color=curr[0].get_color(), linestyle=':' , label='_no_legend_')\n",
    "    # fill area under TURI curve to axis in grey\n",
    "    #ax[0,0].fill_between(dt, TURI[i], TURI.max(),color=curr[0].get_color(), alpha=0.15)\n",
    "\n",
    "    # in second panel plot dt vs TURS and dt vs S\n",
    "    noi = ax[0,1].plot(dt, S[i]/gamma, label='_no_legend_',color=cols[i], linestyle=lss[i])\n",
    "    ax[0,1].plot(dt, TURS[i]/gamma, color=noi[0].get_color(), linestyle=':', label='_no_legend_')\n",
    "    # fill area under TURS curve to axis in grey\n",
    "    ax[0,1].fill_between(dt, TURS[i]/gamma, TURS.min(), color='lightgray', alpha=0.20)\n",
    "\n",
    "    fano = ax[0,2].plot(dt, S[i]/I[i], label='_no_legend_',color=cols[i], linestyle=lss[i])\n",
    "\n",
    "    pow = ax[1,0].plot(dt, P[i]/gamma, label='_no_legend_',color=cols[i], linestyle=lss[i])\n",
    "    \n",
    "    heat = ax[1,1].plot(dt, Q[i]/gamma, label='_no_legend_',color=cols[i], linestyle=lss[i])\n",
    "\n",
    "    # in third panel plot dt vs TURn and dt vs n\n",
    "    eff = ax[1,2].plot(dt, n[i]/nc, label='_no_legend_',color=cols[i], linestyle=lss[i])\n",
    "    ax[1,2].plot(dt, TURn[i]/nc, color=eff[0].get_color(),linestyle=':', label='_no_legend_')\n",
    "    # fill area over TURn curve to axis in grey\n",
    "    ax[1,2].fill_between(dt, TURn[i]/nc, 1, color='lightgray', alpha=0.20)\n",
    "\n",
    "ax[0,0].set_ylim(0,.11)\n",
    "ax[0,1].set_ylim(0.05,.185)\n",
    "ax[0,2].set_ylim(0,5)\n",
    "ax[1,2].set_ylim(0.3,0.75)\n",
    "\n",
    "# ax[0,0].plot(dt, TUR_lb,':', label='TUR SRL',color='k')\n",
    "# ax[0,1].plot(dt, S_lb,':', label='S SRL',color='k')\n",
    "# #ax[0,1].plot(dt, TURS_lb, label='TURS SRL',color='k')\n",
    "# ax[1,0].plot(dt, I_lb,':', label='I SRL',color='k')\n",
    "# #ax[1,0].plot(dt, TURI_lb, label='TURI SRL',color='k')\n",
    "# ax[1,1].plot(dt, n_lb/nc,':', label='n SRL',color='k')\n",
    "# #ax[1,1].plot(dt, TURn_lb, label='TURn SRL',color='k')\n",
    "\n",
    "titles = [r'Current $I/\\Gamma$',r'Noise $S/\\Gamma$',r'    Fano factor $F=S/I$',r'Power $P/(\\Gamma \\cdot T)$',r'Heat current $Q/\\Gamma$',r'Efficiency $n/n_c$']\n",
    "for i,a in enumerate(ax.flatten()):\n",
    "    a.set_xmargin(0)\n",
    "    a.set_ymargin(0)\n",
    "    a.set_xlim(0,3)\n",
    "    # label and title as text in top left of plot\n",
    "    a.text(0.02,0.98,f'({chr(97+i)}) '+titles[i],fontsize='large', horizontalalignment='left',verticalalignment='top',transform=a.transAxes)\n",
    "    a.grid(True,which='both',axis='both',linestyle='--',linewidth=0.5)\n",
    "for a in ax[1,:]:\n",
    "    a.set_xlabel(r'$\\Delta T/T$')#('Temperature difference $\\Delta T$')\n",
    "\n",
    "fig.subplots_adjust(hspace=0.05)\n",
    "\n",
    "lab=[labels[0],labels[1],labels[2],labels[3],labels[4],'TUR bounds']\n",
    "\n",
    "ax[0,0].plot([],[],':',color='gray')\n",
    "\n",
    "plt.figlegend(loc='upper center', ncol=3, labels=lab)#, bbox_to_anchor=(0.5,0.02))\n",
    "\n",
    "plt.savefig('fig4.pdf',bbox_inches='tight')\n",
    "\n",
    "plt.show()\n",
    "\n"
   ]
  },
  {
   "cell_type": "code",
   "execution_count": null,
   "metadata": {},
   "outputs": [],
   "source": [
    "plt.rcParams[\"font.family\"] = \"serif\"\n",
    "plt.rcParams[\"mathtext.fontset\"] = \"dejavuserif\"\n",
    "plt.plot(Vg_rtd,Vb_rtd,color=oranges[5])\n",
    "plt.plot(Vg_u0,Vb_u0,color=oranges[3])\n",
    "plt.plot(Vg_pauli,Vb_pauli,color=purples[5])\n",
    "plt.plot(Vg_pauli_u0,Vb_pauli_u0,color=purples[3])\n",
    "plt.plot(Vg_lb,Vb_lb,'k--')\n",
    "plt.legend(['Second order U=100', 'Second order U=0', 'First order U=100', 'First order U=0', 'Exact LB U=0'])\n",
    "plt.xlabel('$V_g/T$')\n",
    "plt.ylabel('$V_b/T$')\n",
    "plt.margins(0)\n",
    "plt.savefig('maxppdt.pdf',bbox_inches='tight')"
   ]
  }
 ],
 "metadata": {
  "kernelspec": {
   "display_name": "Python 3",
   "language": "python",
   "name": "python3"
  },
  "language_info": {
   "codemirror_mode": {
    "name": "ipython",
    "version": 3
   },
   "file_extension": ".py",
   "mimetype": "text/x-python",
   "name": "python",
   "nbconvert_exporter": "python",
   "pygments_lexer": "ipython3",
   "version": "3.9.19"
  }
 },
 "nbformat": 4,
 "nbformat_minor": 2
}
