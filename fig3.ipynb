{
 "cells": [
  {
   "cell_type": "code",
   "execution_count": null,
   "metadata": {},
   "outputs": [],
   "source": [
    "from utils import *\n",
    "import pickle\n",
    "import datetime\n",
    "import scipy\n",
    "from scipy.optimize import minimize"
   ]
  },
  {
   "cell_type": "code",
   "execution_count": null,
   "metadata": {},
   "outputs": [],
   "source": [
    "purples = ['#f7fcfd','#e0ecf4','#bfd3e6','#9ebcda','#8c96c6','#8c6bb1','#88419d','#810f7c','#4d004b']\n",
    "oranges = ['#ffffe5','#fff7bc','#fee391','#fec44f','#fe9929','#ec7014','#cc4c02','#993404','#662506']"
   ]
  },
  {
   "cell_type": "code",
   "execution_count": null,
   "metadata": {},
   "outputs": [],
   "source": [
    "params=Parameters(B=0., u=0., Tl=1.3, Tr=1., gamma=.1, kerntype='RTD', dband=1e4, countingleads=[0,2])"
   ]
  },
  {
   "cell_type": "code",
   "execution_count": null,
   "metadata": {},
   "outputs": [],
   "source": [
    "def power(Vs,params):\n",
    "    vg,vb = Vs\n",
    "    system = anderson(vg,vb,params)\n",
    "    system.solve()\n",
    "    return -vb*np.sum(system.current[[0,2]])\n",
    "\n",
    "def eff(Vs,params):\n",
    "    vg,vb = Vs\n",
    "    system = anderson(vg,vb,params)\n",
    "    system.solve()\n",
    "    p = -vb*np.sum(system.current[[0,2]])\n",
    "    q = np.sum(system.heat_current[[0,2]])\n",
    "    return p/q\n",
    "\n",
    "\n",
    "cons = ({'type': 'ineq', 'fun': lambda x:  power(x,params)-1e-5})"
   ]
  },
  {
   "cell_type": "code",
   "execution_count": null,
   "metadata": {},
   "outputs": [],
   "source": [
    "def main(Vg, Vb, params):\n",
    "    with ProcessPoolExecutor() as executor:\n",
    "        results = np.array(list(tqdm(executor.map(solve_bias_gate_p,Vg,Vb,params),total=len(Vg))),dtype=object)\n",
    "    return results"
   ]
  },
  {
   "cell_type": "code",
   "execution_count": null,
   "metadata": {},
   "outputs": [],
   "source": [
    "def main_srl(Vg,Vb,Gamma):\n",
    "    with ProcessPoolExecutor() as executor:\n",
    "        results = np.array(list(tqdm(executor.map(SRL_exact,Gamma,Vg,Vb,[1.3]*len(Vg),[1]*len(Vg)),total=len(Vg))))\n",
    "    return results"
   ]
  },
  {
   "cell_type": "code",
   "execution_count": null,
   "metadata": {},
   "outputs": [],
   "source": [
    "U = [100,0]\n",
    "Gamma = np.linspace(0.01,0.4,20)\n",
    "T,dT=1.,0.3"
   ]
  },
  {
   "cell_type": "code",
   "execution_count": null,
   "metadata": {},
   "outputs": [],
   "source": [
    "\n",
    "Pmax_rtd = [[] for i in range(len(U))]\n",
    "Pmax_pauli = [[] for i in range(len(U))]\n",
    "Pmax_lb = []"
   ]
  },
  {
   "cell_type": "code",
   "execution_count": null,
   "metadata": {},
   "outputs": [],
   "source": [
    "if __name__ == '__main__':\n",
    "    params=Parameters(B=0., u=0, Tl=T+dT, Tr=T, gamma=.1, kerntype='RTD', dband=1e4, countingleads=[0,2])\n",
    "    for i,u in enumerate(U):\n",
    "        params.u = u\n",
    "        for j,gamma in enumerate(tqdm(Gamma, desc='gamma')):\n",
    "            params.gamma = gamma\n",
    "            if gamma == Gamma.min():\n",
    "                x0 = [-1,-1]\n",
    "            else:\n",
    "                x0 = Pmax_rtd[i][j-1][1].x\n",
    "            res = gamma, minimize( lambda x: -power(x,params), x0, tol= 1e-8, options={'maxiter': 200})\n",
    "            Pmax_rtd[i].append(res)\n",
    "            #print(gamma, res[1].x, -res[1].fun)"
   ]
  },
  {
   "cell_type": "code",
   "execution_count": null,
   "metadata": {},
   "outputs": [],
   "source": [
    "if __name__ == '__main__':\n",
    "    params=Parameters(B=0., u=0, Tl=T+dT, Tr=T, gamma=.1, kerntype='Pauli', dband=1e4, countingleads=[0,2])\n",
    "    for i,u in tqdm(enumerate(U), desc='U', total=len(U)):\n",
    "        params.u = u\n",
    "        for j,gamma in enumerate(tqdm(Gamma, desc='gamma')):\n",
    "            params.gamma = gamma\n",
    "            if gamma == Gamma.min():\n",
    "                x0 = [-1,-1]\n",
    "            else:\n",
    "                x0 = Pmax_pauli[i][j-1][1].x\n",
    "            res = gamma, minimize( lambda x: -power(x,params), x0, tol= 1e-8, options={'maxiter': 1000})\n",
    "            Pmax_pauli[i].append(res)\n",
    "            #print(gamma, res[1].x, -res[1].fun)"
   ]
  },
  {
   "cell_type": "code",
   "execution_count": null,
   "metadata": {},
   "outputs": [],
   "source": [
    "if __name__ == '__main__':\n",
    "    for gamma in tqdm(Gamma, desc='gamma'):\n",
    "        if gamma == Gamma.min():\n",
    "            x0 = [-1,-1]\n",
    "        else:\n",
    "            x0 = Pmax_lb[-1][1].x\n",
    "        res = gamma, minimize( lambda x: x[1]*SRL_exact(gamma,x[0],x[1],T+dT,T,dband=1e2)[0], x0, tol = 1e-8, options={'maxiter': 1000})\n",
    "        Pmax_lb.append(res)\n",
    "        #print(gamma, res[1].x, -res[1].fun)"
   ]
  },
  {
   "cell_type": "code",
   "execution_count": null,
   "metadata": {},
   "outputs": [],
   "source": [
    "data = {'Pmax_rtd':Pmax_rtd, 'Pmax_pauli':Pmax_pauli, 'Pmax_lb':Pmax_lb, 'U':U, 'Gamma':Gamma}"
   ]
  },
  {
   "cell_type": "code",
   "execution_count": null,
   "metadata": {},
   "outputs": [],
   "source": [
    "\n",
    "timestamp = datetime.datetime.now().strftime(\"%Y%m%d%H%M%S\")\n",
    "# pickle data\n",
    "with open(timestamp+'pmax_outside_gammasweep.pkl', 'wb') as f:\n",
    "    pickle.dump(data, f)# pickle Pmax"
   ]
  },
  {
   "cell_type": "code",
   "execution_count": null,
   "metadata": {},
   "outputs": [],
   "source": [
    "Vg = [[p[1].x[0] for p in P] for P in Pmax_rtd]\n",
    "Vb = [[p[1].x[1] for p in P] for P in Pmax_rtd]\n",
    "Vg_pauli = [[p[1].x[0] for p in P] for P in Pmax_pauli]\n",
    "Vb_pauli = [[p[1].x[1] for p in P] for P in Pmax_pauli]\n",
    "Vg_lb = [p[1].x[0] for p in Pmax_lb]\n",
    "Vb_lb = [p[1].x[1] for p in Pmax_lb]\n",
    "\n",
    "params=[Parameters(B=0., u=0, Tl=T+dT, Tr=T, gamma=gamma, kerntype='RTDnoise', dband=1e4, countingleads=[0,2]) for gamma in Gamma]\n",
    "\n"
   ]
  },
  {
   "cell_type": "code",
   "execution_count": null,
   "metadata": {},
   "outputs": [],
   "source": [
    "cols=[oranges[5],purples[5],oranges[3],purples[3],'k']\n",
    "for i in range(2):\n",
    "    plt.plot(Vg[i],Vb[i],color=cols[2*i], marker='x',label='Second order U='+str(data['U'][i]))\n",
    "for i in range(2):\n",
    "    plt.plot(Vg_pauli[i],Vb_pauli[i],color=cols[2*i+1], marker='x',label='First order U='+str(data['U'][i]))\n",
    "plt.plot(Vg_lb,Vb_lb,'k--',label='Exact LB U=0')\n",
    "plt.legend(loc='lower right')\n",
    "plt.title('Position max. power point')\n",
    "plt.xlabel(r'$V_g/T$')\n",
    "plt.ylabel(r'$V_b/T$')\n",
    "plt.savefig('maxpp.pdf',bbox_inches='tight')\n",
    "plt.show()"
   ]
  },
  {
   "cell_type": "code",
   "execution_count": null,
   "metadata": {},
   "outputs": [],
   "source": [
    "results_rtd = []\n",
    "for i,u in tqdm(enumerate(U), desc='U', total=len(U)):\n",
    "    for p in params:\n",
    "        p.u = u\n",
    "        p.kerntype='RTDnoise'\n",
    "    res = main(Vg[i],Vb[i],params)\n",
    "    results_rtd.append(res)"
   ]
  },
  {
   "cell_type": "code",
   "execution_count": null,
   "metadata": {},
   "outputs": [],
   "source": [
    "results_pauli = []\n",
    "for i,u in tqdm(enumerate(U), desc='U', total=len(U)):\n",
    "    for p in params:\n",
    "        p.u = u\n",
    "        p.kerntype = 'Pauli'\n",
    "    res = main(Vg_pauli[i],Vb_pauli[i],params)\n",
    "    results_pauli.append(res)"
   ]
  },
  {
   "cell_type": "code",
   "execution_count": null,
   "metadata": {},
   "outputs": [],
   "source": [
    "results_exact = main_srl(Vg_lb,Vb_lb,Gamma)"
   ]
  },
  {
   "cell_type": "code",
   "execution_count": null,
   "metadata": {},
   "outputs": [],
   "source": [
    "I_rtd = np.array([[r[0][0] for r in R] for R in results_rtd])\n",
    "S_rtd = np.array([[r[0][1] for r in R] for R in results_rtd])\n",
    "F_rtd = S_rtd/I_rtd\n",
    "Q_rtd = np.array([[r[2][0]+r[2][2] for r in R] for R in results_rtd])\n",
    "P_rtd = -I_rtd*np.array(Vb)\n",
    "nc_rtd= 1 - (T/(T+dT))\n",
    "n_rtd = P_rtd/Q_rtd\n",
    "TUR_rtd = -S_rtd/I_rtd*np.array(Vb)/1*(nc_rtd-n_rtd)/n_rtd\n",
    "TURS_rtd =-2*I_rtd/Vb*1/(nc_rtd-n_rtd)*n_rtd\n",
    "TURI_rtd =-S_rtd/2*Vb/1*(nc_rtd-n_rtd)/n_rtd\n",
    "TURn_rtd =nc_rtd/((-2*I_rtd*1)/S_rtd/Vb+1)\n",
    "\n",
    "\n",
    "\n",
    "I_exact = 2*np.array([r[0] for r in results_exact])\n",
    "S_exact = 2*np.array([r[1] for r in results_exact])\n",
    "F_exact = S_exact/I_exact\n",
    "Q_exact = 2*np.array([r[2] for r in results_exact])\n",
    "P_exact = -I_exact*Vb_lb\n",
    "nc_exact = 1 - (T/(T+dT))\n",
    "n_exact = P_exact/Q_exact\n",
    "TUR_exact = -S_exact/I_exact*Vb_lb/1*(nc_exact-n_exact)/n_exact"
   ]
  },
  {
   "cell_type": "code",
   "execution_count": null,
   "metadata": {},
   "outputs": [],
   "source": [
    "I_pauli = np.array([[r[0][0] for r in R] for R in results_pauli])\n",
    "S_pauli = np.array([[r[0][1] for r in R] for R in results_pauli])\n",
    "F_pauli = S_pauli/I_pauli\n",
    "Q_pauli = np.array([[r[2][0]+r[2][2] for r in R] for R in results_pauli])\n",
    "P_pauli = -I_pauli*np.array(Vb_pauli[0])\n",
    "nc_pauli= 1 - (T/(T+dT))\n",
    "n_pauli = P_pauli/Q_pauli\n",
    "TUR_pauli= -S_pauli/I_pauli*np.array(Vb_pauli[0])/1*(nc_pauli-n_pauli)/n_pauli"
   ]
  },
  {
   "cell_type": "code",
   "execution_count": null,
   "metadata": {},
   "outputs": [],
   "source": [
    "res_plt = [[I_rtd,I_pauli,I_exact],[S_rtd,S_pauli,S_exact],[F_rtd, F_pauli, F_exact],[P_rtd,P_pauli,P_exact],[Q_rtd,Q_pauli,Q_exact],[n_rtd/nc_rtd,n_pauli/nc_pauli,n_exact/nc_exact]]\n",
    "# pickle res_plt\n",
    "timestamp = datetime.datetime.now().strftime(\"%Y%m%d%H%M%S\")\n",
    "with open(timestamp+'res_plt.pkl', 'wb') as f:\n",
    "    pickle.dump(res_plt, f)\n",
    "\n"
   ]
  },
  {
   "cell_type": "code",
   "execution_count": null,
   "metadata": {},
   "outputs": [],
   "source": [
    "plt.rcParams[\"font.family\"] = \"serif\"\n",
    "plt.rcParams[\"mathtext.fontset\"] = \"dejavuserif\"\n",
    "# plot I, S, Q, P, n, TUR vs gamma in 6 subplots\n",
    "cols=[oranges[5],purples[5],oranges[3],purples[3],'k']\n",
    "labs = [r'Current $I/\\Gamma$',r'Noise $S/\\Gamma$',r'Fano factor $F=S/I$',r'Power $P/(\\Gamma \\cdot T)$',r'Heat current $Q/\\Gamma$',r'Efficiency $n/n_c$']\n",
    "label_pos = [[0.02,0.98],[0.02,0.98],[0.02,0.98],[0.02,0.98],[0.02,0.98],[0.02,0.98]]\n",
    "fig, axs = plt.subplots(2,3,figsize=(12,6),sharex=True)\n",
    "for i in [0,1,4]:\n",
    "    ax=axs.flatten()[i]\n",
    "    for j,u in enumerate(U):\n",
    "        ax.plot(Gamma, res_plt[i][0][j].real/Gamma, label='Second order U='+str(u),color=cols[2*j])\n",
    "        ax.plot(Gamma, res_plt[i][1][j].real/Gamma, label='First order U='+str(u),color=cols[2*j+1])\n",
    "        #print(j,u)\n",
    "    ax.plot(Gamma, res_plt[i][2].real/Gamma,'k--', label='Exact LB U=0')\n",
    "    ax.text(label_pos[i][0],label_pos[i][1],f'({chr(97+i)}) '+labs[i],fontsize='large', horizontalalignment='left',verticalalignment='top',transform=ax.transAxes)\n",
    "    ax.set_xmargin(0)\n",
    "    ax.grid(True,which='both',axis='both',linestyle='--',linewidth=0.5)\n",
    "    #ax.legend()\n",
    "for i in [3]:\n",
    "    ax=axs.flatten()[i]\n",
    "    for j,u in enumerate(U):\n",
    "        ax.plot(Gamma, res_plt[i][0][j].real/Gamma/T, label='Second order U='+str(u),color=cols[2*j])\n",
    "        ax.plot(Gamma, res_plt[i][1][j].real/Gamma/T, label='First order U='+str(u),color=cols[2*j+1])\n",
    "        #print(j,u)\n",
    "    ax.plot(Gamma, res_plt[i][2].real/Gamma/T,'k--', label='Exact LB U=0')\n",
    "    ax.text(label_pos[i][0],label_pos[i][1],f'({chr(97+i)}) '+labs[i],fontsize='large', horizontalalignment='left',verticalalignment='top',transform=ax.transAxes)\n",
    "    ax.set_xmargin(0)\n",
    "    ax.grid(True,which='both',axis='both',linestyle='--',linewidth=0.5)\n",
    "    #ax.legend()\n",
    "for i in [2,5]:\n",
    "    ax=axs.flatten()[i]\n",
    "    for j,u in enumerate(U):\n",
    "        ax.plot(Gamma, res_plt[i][0][j].real, label='Second order U='+str(u),color=cols[2*j])\n",
    "        ax.plot(Gamma, res_plt[i][1][j].real, label='First order U='+str(u),color=cols[2*j+1])\n",
    "        #print(j,u)\n",
    "    ax.plot(Gamma, res_plt[i][2].real,'k--', label='Exact LB U=0')\n",
    "    ax.text(label_pos[i][0],label_pos[i][1],f'({chr(97+i)}) '+labs[i],fontsize='large', horizontalalignment='left',verticalalignment='top',transform=ax.transAxes)\n",
    "    ax.set_xmargin(0)\n",
    "    ax.grid(True,which='both',axis='both',linestyle='--',linewidth=0.5)\n",
    "    #ax.legend()\n",
    "axs[1,2].set_ylim(0,1)\n",
    "for ax in axs[1,:]:\n",
    "    ax.set_xlabel('$\\Gamma/T$')\n",
    "for ax in axs.flatten()[:-1]:\n",
    "    #ax.set_ymargin(0)\n",
    "    ax.set_xlim(0.01,0.4)\n",
    "    ax.set_ymargin(0.15)\n",
    "#fig.suptitle('Gamma sweepkkat max power point of RTD\\nU from 0 to 100, Tl=1.3,Tr=1\\nRTD: orange, Pauli: purple, Exact: black')\n",
    "\n",
    "#axs[0,2].set_ylim(5.8,res_plt[2][0][0].real.max())\n",
    "\n",
    "# axs[0,0].plot(Gamma, TURI_rtd[0,:].real,':',color=oranges[3])\n",
    "# axs[0,0].plot(Gamma, TURI_rtd[1,:].real,':',color=oranges[6])\n",
    "# axs[0,1].plot(Gamma, TURS_rtd[0,:].real,':',color=oranges[3])\n",
    "# axs[0,1].plot(Gamma, TURS_rtd[1,:].real,':',color=oranges[6])\n",
    "# axs[1,2].plot(Gamma, TURn_rtd[0,:].real/nc_rtd,':',color=oranges[3])\n",
    "# axs[1,2].plot(Gamma, TURn_rtd[1,:].real/nc_rtd,':',color=oranges[6])\n",
    "\n",
    "handles, labels = axs.flatten()[0].get_legend_handles_labels()\n",
    "plt.figlegend(handles, labels, loc='upper center', ncol=3)\n",
    "\n",
    "\n",
    "#plt.figlegend(['Second order U=100', 'First order U=100', 'Second order U=0', 'First order U=0', 'Exact LB'],loc='upper center',ncol=3)\n",
    "\n",
    "plt.subplots_adjust(hspace=0.05)\n",
    "plt.savefig('fig3.pdf',bbox_inches='tight')\n",
    "\n",
    "plt.show()"
   ]
  }
 ],
 "metadata": {
  "kernelspec": {
   "display_name": "Python 3",
   "language": "python",
   "name": "python3"
  },
  "language_info": {
   "codemirror_mode": {
    "name": "ipython",
    "version": 3
   },
   "file_extension": ".py",
   "mimetype": "text/x-python",
   "name": "python",
   "nbconvert_exporter": "python",
   "pygments_lexer": "ipython3",
   "version": "3.9.19"
  }
 },
 "nbformat": 4,
 "nbformat_minor": 2
}
