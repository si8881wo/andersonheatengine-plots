{
 "cells": [
  {
   "cell_type": "code",
   "execution_count": null,
   "metadata": {},
   "outputs": [],
   "source": [
    "from utils import *\n",
    "\n",
    "import pickle\n",
    "import datetime\n",
    "\n",
    "from scipy.optimize import minimize, root\n",
    "\n",
    "import matplotlib.image as mpimg\n",
    "from matplotlib.gridspec import GridSpec"
   ]
  },
  {
   "cell_type": "code",
   "execution_count": null,
   "metadata": {},
   "outputs": [],
   "source": [
    "purples = ['#f7fcfd','#e0ecf4','#bfd3e6','#9ebcda','#8c96c6','#8c6bb1','#88419d','#810f7c','#4d004b']\n",
    "oranges = ['#ffffe5','#fff7bc','#fee391','#fec44f','#fe9929','#ec7014','#cc4c02','#993404','#662506']"
   ]
  },
  {
   "cell_type": "markdown",
   "metadata": {},
   "source": [
    "# Figure 2"
   ]
  },
  {
   "cell_type": "code",
   "execution_count": null,
   "metadata": {},
   "outputs": [],
   "source": [
    "from utils import *\n",
    "import pickle\n",
    "import datetime\n",
    "import scipy\n",
    "from scipy.optimize import minimize, root"
   ]
  },
  {
   "cell_type": "code",
   "execution_count": null,
   "metadata": {},
   "outputs": [],
   "source": [
    "def power(Vs,params):\n",
    "    vg,vb = Vs\n",
    "    system = anderson(vg,vb,params)\n",
    "    system.solve()\n",
    "    return vb*np.sum(system.current[[0,2]])"
   ]
  },
  {
   "cell_type": "code",
   "execution_count": null,
   "metadata": {},
   "outputs": [],
   "source": [
    "def load_voltage(vb,R,system):\n",
    "    system.change(mulst={0:vb/2, 1:-vb/2, 2:vb/2, 3:-vb/2})\n",
    "    system.solve()\n",
    "    return np.sum(system.current[[0,2]])-vb/R"
   ]
  },
  {
   "cell_type": "code",
   "execution_count": null,
   "metadata": {},
   "outputs": [],
   "source": [
    "def main(Vg, Vb, params):\n",
    "    with ProcessPoolExecutor() as executor:\n",
    "        results = np.array(list(tqdm(executor.map(solve_bias_gate,Vg,Vb,params),total=len(Vg))),dtype=object)\n",
    "    return results"
   ]
  },
  {
   "cell_type": "code",
   "execution_count": null,
   "metadata": {},
   "outputs": [],
   "source": [
    "def main_p(Vg, Vb, params):\n",
    "    with ProcessPoolExecutor() as executor:\n",
    "        results = np.array(list(executor.map(solve_bias_gate_p,Vg,Vb,params)),dtype=object)\n",
    "    return results"
   ]
  },
  {
   "cell_type": "code",
   "execution_count": null,
   "metadata": {},
   "outputs": [],
   "source": [
    "U=100\n",
    "gamma=.25\n",
    "T=1\n",
    "dT=.3"
   ]
  },
  {
   "cell_type": "code",
   "execution_count": null,
   "metadata": {},
   "outputs": [],
   "source": [
    "params=Parameters(B=0., u=U, Tl=T+dT, Tr=T, gamma=gamma, kerntype='RTD', dband=1e4, countingleads=[0,2])\n",
    "params_p=Parameters(B=0., u=U, Tl=T+dT, Tr=T, gamma=gamma, kerntype='Pauli', dband=1e4, countingleads=[0,2])"
   ]
  },
  {
   "cell_type": "code",
   "execution_count": null,
   "metadata": {},
   "outputs": [],
   "source": [
    "system = anderson(0,0,params)\n",
    "system_p = anderson(0,0,params_p)"
   ]
  },
  {
   "cell_type": "code",
   "execution_count": null,
   "metadata": {},
   "outputs": [],
   "source": [
    "# find max power point\n",
    "v_max = minimize(power, [-1,-1], args=(params,))\n",
    "v_max_p = minimize(power, [-1,-1], args=(params_p,))"
   ]
  },
  {
   "cell_type": "code",
   "execution_count": null,
   "metadata": {},
   "outputs": [],
   "source": [
    "# corresponding load voltage and current give load resistance\n",
    "# RTD\n",
    "system = anderson(v_max.x[0],v_max.x[1],params)\n",
    "system.solve()\n",
    "I_max= system.current[0]+system.current[2]\n",
    "R_load = v_max.x[1]/I_max\n",
    "# Pauli\n",
    "system_p = anderson(v_max_p.x[0],v_max_p.x[1],params_p)\n",
    "system_p.solve()\n",
    "I_max_p= system_p.current[0]+system_p.current[2]\n",
    "R_load_p = v_max_p.x[1]/I_max_p"
   ]
  },
  {
   "cell_type": "code",
   "execution_count": null,
   "metadata": {},
   "outputs": [],
   "source": [
    "R_load, R_load_p"
   ]
  },
  {
   "cell_type": "code",
   "execution_count": null,
   "metadata": {},
   "outputs": [],
   "source": [
    "Vg=np.linspace(-15,15,200)\n",
    "Vb=[]\n",
    "for i,vg in tqdm(enumerate(Vg),desc='Finding Vb',total=len(Vg)):\n",
    "    system = anderson(vg,0,params)\n",
    "    Vb.append(root(lambda vb: load_voltage(vb,R_load,system),0))"
   ]
  },
  {
   "cell_type": "code",
   "execution_count": null,
   "metadata": {},
   "outputs": [],
   "source": [
    "Vb_p=[]\n",
    "for i,vg in tqdm(enumerate(Vg),desc='Finding Vb',total=len(Vg)):\n",
    "    system = anderson(vg,0,params_p)\n",
    "    Vb_p.append(root(lambda vb: load_voltage(vb,R_load,system),0))"
   ]
  },
  {
   "cell_type": "code",
   "execution_count": null,
   "metadata": {},
   "outputs": [],
   "source": [
    "Vb_load=np.array([vb.x for vb in Vb]).reshape(len(Vg),)\n",
    "Vb_succes=np.array([vb.success for vb in Vb])\n",
    "Vb_load_p=np.array([vb.x for vb in Vb_p]).reshape(len(Vg),)\n",
    "Vb_succes_p=np.array([vb.success for vb in Vb_p])"
   ]
  },
  {
   "cell_type": "code",
   "execution_count": null,
   "metadata": {},
   "outputs": [],
   "source": [
    "plt.plot(Vg,Vb_load)\n",
    "plt.plot(Vg,Vb_load_p)"
   ]
  },
  {
   "cell_type": "code",
   "execution_count": null,
   "metadata": {},
   "outputs": [],
   "source": [
    "params=Parameters(B=0., u=U, Tl=T+dT, Tr=T, gamma=gamma, kerntype='RTDnoise', dband=1e4, countingleads=[0,2])\n",
    "res=main(Vg,Vb_load,[params]*len(Vg))\n"
   ]
  },
  {
   "cell_type": "code",
   "execution_count": null,
   "metadata": {},
   "outputs": [],
   "source": [
    "params_p=Parameters(B=0., u=U, Tl=T+dT, Tr=T, gamma=gamma, kerntype='Pauli', dband=1e4, countingleads=[0,2])\n",
    "res_p=main_p(Vg,Vb_load_p,[params_p]*len(Vg))\n"
   ]
  },
  {
   "cell_type": "code",
   "execution_count": null,
   "metadata": {},
   "outputs": [],
   "source": [
    "I=np.array([r[0][0] for r in res])\n",
    "S=np.array([r[0][1] for r in res])\n",
    "Q=np.array([np.sum(r[2][[0,2]]) for r in res])\n",
    "I_o4trunc=np.array([r[3][1] for r in res])\n",
    "S_o4trunc=np.array([r[3][3] for r in res])\n",
    "I_std=np.array([np.sum(r[1][[0,2]]) for r in res])\n",
    "\n",
    "P=-Vb_load*I\n",
    "P_o4trunc=-Vb_load*I_o4trunc\n",
    "\n",
    "n = P/Q\n",
    "nc= 1 - T/(T+dT)\n",
    "\n",
    "TUR = -S/I*Vb_load/T*(nc-n)/n\n",
    "TUR_o4trunc = -S_o4trunc/I_o4trunc*Vb_load/T*(nc-n)/n"
   ]
  },
  {
   "cell_type": "code",
   "execution_count": null,
   "metadata": {},
   "outputs": [],
   "source": [
    "I_p=np.array([r[0][0] for r in res_p])\n",
    "S_p=np.array([r[0][1] for r in res_p])\n",
    "Q_p=np.array([np.sum(r[2][[0,2]]) for r in res_p])\n",
    "I_std_p=np.array([np.sum(r[1][[0,2]]) for r in res_p])\n",
    "\n",
    "P_p=-Vb_load_p*I_p\n",
    "\n",
    "n_pauli = P_p/Q_p\n",
    "nc_pauli= 1 - T/(T+dT)\n",
    "\n",
    "TUR_pauli = -S_p/I_p*Vb_load_p/T*(nc_pauli-n_pauli)/n_pauli\n",
    "\n"
   ]
  },
  {
   "cell_type": "code",
   "execution_count": null,
   "metadata": {},
   "outputs": [],
   "source": [
    "TUR=-S/I*Vb_load/1*(nc-n)/n\n",
    "TUR[P<0]=np.nan\n",
    "TURS=-2*I/Vb_load*1/(nc-n)*n\n",
    "TURS[P<0]=np.nan\n",
    "TURI=-S/2*Vb_load/1*(nc-n)/n\n",
    "TURI[P<0]=np.nan\n",
    "TURn=1/((-2*I*T)/S/Vb_load+1)\n",
    "TURn[P<0]=np.nan\n",
    "\n",
    "TUR_p=-S_p/I_p*Vb_load_p/T*(nc-n_pauli)/n_pauli\n",
    "TUR_p[P_p<0]=np.nan\n",
    "TURS_p=-2*I_p/Vb_load_p*T/(nc_pauli-n_pauli)*n_pauli\n",
    "TURS_p[P_p<0]=np.nan\n",
    "TURI_p=-S_p/2*Vb_load_p/T*(nc_pauli-n_pauli)/n_pauli\n",
    "TURI_p[P_p<0]=np.nan\n",
    "TURn_p=1/((-2*I_p*T)/S_p/Vb_load_p+1)\n",
    "TURn_p[P_p<0]=np.nan"
   ]
  },
  {
   "cell_type": "code",
   "execution_count": null,
   "metadata": {},
   "outputs": [],
   "source": [
    "# separate TURI in 2 arrays where one contains the positive entries and the other the negative entries\n",
    "TURI_pos=np.copy(TURI)\n",
    "TURI_neg=np.copy(TURI)\n",
    "TURI_pos[TURI<0]=np.nan\n",
    "TURI_neg[TURI>0]=np.nan\n",
    "# same for TURI_p\n",
    "TURI_pos_p=np.copy(TURI_p)\n",
    "TURI_neg_p=np.copy(TURI_p)\n",
    "TURI_pos_p[TURI_p<0]=np.nan\n",
    "TURI_neg_p[TURI_p>0]=np.nan\n"
   ]
  },
  {
   "cell_type": "code",
   "execution_count": null,
   "metadata": {},
   "outputs": [],
   "source": [
    "plt.rcParams[\"font.family\"] = \"serif\"\n",
    "plt.rcParams[\"mathtext.fontset\"] = \"dejavuserif\"\n",
    "# plot current, noise, power and  heat current in a 2x2 subplot\n",
    "fig,ax=plt.subplots(2,3,figsize=(12,6),sharex=True,constrained_layout=True)\n",
    "curr = ax[0,0].plot(Vg,I/gamma,color=oranges[5])\n",
    "curr_p = ax[0,0].plot(Vg,I_p/gamma,color=purples[5])\n",
    "ax[0,0].plot([],[],color='black',linestyle=':')\n",
    "#ax[0,0].plot(Vg,I_o4trunc)\n",
    "# plot TURI only where it is positive\n",
    "#ax[0,0].plot(Vg,TURI_pos,linestyle='--',color=curr[0].get_color())\n",
    "# shade area above TURI\n",
    "#ax[0,0].fill_between(Vg,0.007,TURI_pos,color='lightgray', alpha=0.20)\n",
    "# plot TURI only where it is negative\n",
    "#ax[0,0].plot(Vg,TURI_neg,linestyle='--',color=curr[0].get_color())\n",
    "# shade area between TURI and bottom of plot\n",
    "#ax[0,0].fill_between(Vg,-0.006,TURI_neg,color='lightgray', alpha=0.20)\n",
    "# same for TURI_p\n",
    "# ax[0,0].plot(Vg,TURI_p,linestyle='--',color=curr_p[0].get_color())\n",
    "# ax[0,0].plot(Vg,TURI_pos_p,linestyle='--',color=curr_p[0].get_color())\n",
    "# ax[0,0].fill_between(Vg,0.007,TURI_pos_p,color='lightgray', alpha=0.20)\n",
    "# ax[0,0].plot(Vg,TURI_neg_p,linestyle='--',color=curr_p[0].get_color())\n",
    "# ax[0,0].fill_between(Vg,-0.006,TURI_neg_p,color='lightgray', alpha=0.20)\n",
    "#ax[0,0].set_ylim(-0.006,0.007)\n",
    "\n",
    "noise = ax[0,1].plot(Vg,S/gamma,color=curr[0].get_color())\n",
    "noise_p = ax[0,1].plot(Vg,S_p/gamma,color=curr_p[0].get_color())\n",
    "#ax[0,1].plot(Vg,S_o4trunc)\n",
    "#ax[0,1].plot(Vg,TURS,linestyle='--',color=noise[0].get_color())\n",
    "#ax[0,1].fill_between(Vg,0,TURS,facecolor=noise[0].get_color(),alpha=0.15)\n",
    "#ax[0,1].plot(Vg,TURS_p,linestyle='--',color=noise_p[0].get_color())\n",
    "#ax[0,1].fill_between(Vg,0,TURS_p,facecolor=noise_p[0].get_color(),alpha=0.15)\n",
    "#ax[0,1].set_ylim(0,0.09)\n",
    "\n",
    "\n",
    "ax[0,2].plot(Vg,np.abs(S/I),color=curr[0].get_color())\n",
    "ax[0,2].plot(Vg,np.abs(S_p/I_p),color=curr_p[0].get_color())\n",
    "#ax[0,2].plot(Vg,np.abs(S_o4trunc/I_o4trunc))\n",
    "ax[0,2].set_ylim(0,10)\n",
    "\n",
    "ax[1,0].plot(Vg,P/gamma/T,color=curr[0].get_color())\n",
    "ax[1,0].plot(Vg,P_p/gamma/T,color=curr_p[0].get_color())\n",
    "#ax[1,0].set_ylim(0,0.00205)\n",
    "\n",
    "ax[1,1].plot(Vg,Q/gamma,color=curr[0].get_color())\n",
    "ax[1,1].plot(Vg,Q_p/gamma,color=curr_p[0].get_color())\n",
    "#ax[1,1].set_ylim(0,0.019)\n",
    "\n",
    "eff = ax[1,2].plot(Vg,n/nc,color=curr[0].get_color())\n",
    "eff_p = ax[1,2].plot(Vg,n_pauli/nc_pauli,color=curr_p[0].get_color())\n",
    "turn, =ax[1,2].plot(Vg,TURn,linestyle=':',color=eff[0].get_color(),label='TUR bound')\n",
    "ax[1,2].fill_between(Vg,1,TURn,color='lightgray', alpha=0.20)\n",
    "#ax[1,2].plot(Vg,TURn_p,linestyle=':',color=purples[4])\n",
    "#ax[1,2].fill_between(Vg,1,TURn_p,color='lightgray', alpha=0.20)\n",
    "ax[1,2].set_ylim(0,1)\n",
    "ax[1,2].legend(handles=[turn], bbox_to_anchor=(0.47, 0.75))\n",
    "\n",
    "\n",
    "# ax[3,0].plot(Vg,TUR)\n",
    "# ax[3,0].plot(Vg,TUR_pauli)\n",
    "# # horizontal line at 2\n",
    "# ax[3,0].axhline(2,linestyle='--',color='black')\n",
    "# ax[3,0].set_title('TUR')\n",
    "# ax[3,0].set_ylim(0,5)\n",
    "# ax[3,1].plot(Vg,Vb_load)\n",
    "# ax[3,1].plot(Vg,Vb_load_p)\n",
    "# ax[3,1].set_title('Load voltage')\n",
    "# # add one legend in the last free spot for all plots\n",
    "\n",
    "for a in ax.flatten():\n",
    "    a.set_xmargin(0)\n",
    "\n",
    "#plt.figlegend(['RTD','Pauli'],loc='upper center',ncol=2)\n",
    "plt.figlegend(['Second order','First order'],loc='upper center',ncol=2)#, bbox_to_anchor=(0.5, 0.93), ncol=3)\n",
    "\n",
    "\n",
    "# Loop through all axes to set ticks inside, adjust tick parameters and set titles\n",
    "paddings = [-35,-30,-30,0,0,0]\n",
    "titles = [r'Current $I/\\Gamma$',r'Noise $S/\\Gamma$',r'Fano factor $F=S/I$  ',r'Power $P/(\\Gamma \\cdot T)$',r'Heat current $Q/\\Gamma$',r'Efficiency $n/n_c$']\n",
    "for i,a in enumerate(ax.flatten()):\n",
    "    # set ticks\n",
    "    #a.tick_params(direction='in', top=True, pad=paddings[i])\n",
    "    # set titles\n",
    "    a.text(0.98,0.98,titles[i],fontsize='large', horizontalalignment='right',verticalalignment='top',transform=a.transAxes)\n",
    "    a.text(0.02,0.98,f'({chr(97+i)})',fontsize='large', horizontalalignment='left',verticalalignment='top',transform=a.transAxes)\n",
    "    # turn grid on\n",
    "    a.grid(True,which='both',axis='both',linestyle='--',linewidth=0.5)\n",
    "\n",
    "for a in ax[1,:]:\n",
    "    a.set_xlabel('$V_g/T$')\n",
    "\n",
    "# Adjust layout to remove gaps between subplots\n",
    "plt.subplots_adjust(hspace=0.05,wspace=0.25)\n",
    "plt.savefig('fig2.pdf',bbox_inches='tight')\n",
    "\n",
    "plt.show()\n"
   ]
  },
  {
   "cell_type": "markdown",
   "metadata": {},
   "source": [
    "follows red line in fig1(d)\n",
    "\n",
    "Pauli, equivalent for seq. tunneling\n",
    "\n",
    "dased = TUR bound\n",
    "\n",
    "shaded areas = TUR forbidden"
   ]
  },
  {
   "cell_type": "markdown",
   "metadata": {},
   "source": [
    "# TUR bounds\n",
    "$2 \\leq \\frac{S}{I}\\frac{V}{T_c}\\frac{n_c-n}{n}$\n",
    "\n",
    "for noise:\n",
    "$ S \\geq 2 I \\frac{T_c}{V} \\frac{n}{n_c-n}$\n",
    "\n",
    "for current:\n",
    "\n",
    "$I \\leq \\frac{S}{2}\\frac{V}{T_c}\\frac{n_c-n}{n}$ if $I>0$\n",
    "\n",
    "$I \\geq \\frac{S}{2}\\frac{V}{T_c}\\frac{n_c-n}{n}$ if $I<0$\n",
    "\n",
    "for efficiency:\n",
    "$ n \\leq \\frac{n_c}{\\frac{2IT_c}{SV}+1}$"
   ]
  },
  {
   "cell_type": "code",
   "execution_count": null,
   "metadata": {},
   "outputs": [],
   "source": []
  }
 ],
 "metadata": {
  "kernelspec": {
   "display_name": "Python 3",
   "language": "python",
   "name": "python3"
  },
  "language_info": {
   "codemirror_mode": {
    "name": "ipython",
    "version": 3
   },
   "file_extension": ".py",
   "mimetype": "text/x-python",
   "name": "python",
   "nbconvert_exporter": "python",
   "pygments_lexer": "ipython3",
   "version": "3.9.19"
  }
 },
 "nbformat": 4,
 "nbformat_minor": 2
}
