{
 "cells": [
  {
   "cell_type": "code",
   "execution_count": null,
   "metadata": {},
   "outputs": [],
   "source": [
    "from utils import *\n",
    "\n",
    "import pickle\n",
    "import datetime\n",
    "\n",
    "from scipy.optimize import minimize, root\n",
    "\n",
    "import matplotlib.image as mpimg\n",
    "from matplotlib.gridspec import GridSpec\n"
   ]
  },
  {
   "cell_type": "markdown",
   "metadata": {},
   "source": [
    "# Figure 1"
   ]
  },
  {
   "cell_type": "code",
   "execution_count": null,
   "metadata": {},
   "outputs": [],
   "source": [
    "def main(Vg, Vb, params):\n",
    "    with ProcessPoolExecutor() as executor:\n",
    "        results = np.array(list(tqdm(executor.map(solve_bias_gate,Vg,Vb,params),total=len(Vg))),dtype=object)\n",
    "    return results\n",
    "\n",
    "def power(Vs,params):\n",
    "    vg,vb = Vs\n",
    "    system = anderson(vg,vb,params)\n",
    "    system.solve()\n",
    "    return vb*np.sum(system.current[[0,2]])\n",
    "\n",
    "def load_voltage(vb,R,system):\n",
    "    system.change(mulst={0:vb/2, 1:-vb/2, 2:vb/2, 3:-vb/2})\n",
    "    system.solve()\n",
    "    return np.sum(system.current[[0,2]])-vb/R"
   ]
  },
  {
   "cell_type": "markdown",
   "metadata": {},
   "source": [
    "# Detailed power plot"
   ]
  },
  {
   "cell_type": "code",
   "execution_count": null,
   "metadata": {},
   "outputs": [],
   "source": [
    "n_vg_stab,n_vb_stab = 200,200\n",
    "Vg_stab=np.linspace(-15,15,n_vg_stab)\n",
    "Vb_stab=np.linspace(-1.05,1.05,n_vb_stab)\n",
    "dT=0.3\n",
    "params_rtd=Parameters(B=0., u=100., Tl=1.+dT, Tr=1., gamma=.25, kerntype='RTD', dband=1e4, countingleads=[0,2])"
   ]
  },
  {
   "cell_type": "code",
   "execution_count": null,
   "metadata": {},
   "outputs": [],
   "source": [
    "if __name__ == '__main__':\n",
    "    results = pstab_std(Vg_stab,Vb_stab,params_rtd)"
   ]
  },
  {
   "cell_type": "code",
   "execution_count": null,
   "metadata": {},
   "outputs": [],
   "source": [
    "# pickle the results\n",
    "timestamp = datetime.datetime.now().strftime(\"%Y%m%d%H%M%S\")\n",
    "with open(timestamp+'fig1heatmap.pkl', 'wb') as f:\n",
    "    pickle.dump(results, f)"
   ]
  },
  {
   "cell_type": "code",
   "execution_count": null,
   "metadata": {},
   "outputs": [],
   "source": [
    "# unpickle the results\n",
    "with open(timestamp+'fig1heatmap.pkl', 'rb') as f:\n",
    "    results = pickle.load(f)"
   ]
  },
  {
   "cell_type": "code",
   "execution_count": null,
   "metadata": {},
   "outputs": [],
   "source": [
    "I_stab=np.array([ri[0][0]+ri[0][2] for ri in results]).reshape(n_vg_stab,n_vb_stab)\n",
    "Q_stab=np.array([ri[1][0]+ri[1][2] for ri in results]).reshape(n_vg_stab,n_vb_stab)\n",
    "Vb_rep=np.repeat(Vb_stab,n_vg_stab).reshape(n_vb_stab,n_vg_stab)\n",
    "P_stab=-I_stab*Vb_rep\n",
    "P_stab[P_stab<0]=np.nan"
   ]
  },
  {
   "cell_type": "code",
   "execution_count": null,
   "metadata": {},
   "outputs": [],
   "source": [
    "# max power point\n",
    "system = anderson(0,0,params_rtd)\n",
    "v_max = minimize(power, [-1,-1], args=(params_rtd,))\n",
    "# corresponding load voltage and current give load resistance\n",
    "# RTD\n",
    "system = anderson(v_max.x[0],v_max.x[1],params_rtd)\n",
    "system.solve()\n",
    "I_max = system.current[0]+system.current[2]\n",
    "R_load = v_max.x[1]/I_max\n"
   ]
  },
  {
   "cell_type": "code",
   "execution_count": null,
   "metadata": {},
   "outputs": [],
   "source": [
    "# thermowiggle\n",
    "Vg=np.linspace(Vg_stab.min(),Vg_stab.max(),100)\n",
    "Vb=[]\n",
    "for i,vg in tqdm(enumerate(Vg),desc='Finding Vb',total=len(Vg)):\n",
    "    system = anderson(vg,0,params_rtd)\n",
    "    Vb.append(root(lambda vb: load_voltage(vb,R_load,system),0))\n",
    "\n",
    "Vb_load=np.array([vb.x for vb in Vb]).reshape(len(Vg),)"
   ]
  },
  {
   "cell_type": "markdown",
   "metadata": {},
   "source": [
    "# Plot"
   ]
  },
  {
   "cell_type": "code",
   "execution_count": null,
   "metadata": {},
   "outputs": [],
   "source": [
    "plt.rcParams[\"font.family\"] = \"serif\"\n",
    "plt.rcParams[\"mathtext.fontset\"] = \"dejavuserif\"\n",
    "fig,ax = plt.subplots(figsize=(4,4),constrained_layout=True)\n",
    "P_plot = ax.imshow(P_stab/(params_rtd.gamma*params_rtd.Tr)*1e3,extent=[Vg_stab[0],Vg_stab[-1],Vb_stab[0],Vb_stab[-1]],aspect='auto',origin='lower',cmap='inferno',vmin=0)\n",
    "# colorbar\n",
    "cbar = plt.colorbar(P_plot,location='top')\n",
    "cbar.set_label(r'Power $P/(\\Gamma \\cdot T) \\cdot 10^3$',fontsize=12)\n",
    "# thermowiggle\n",
    "plt.plot(Vg,Vb_load,'r--',lw=2.5)\n",
    "plt.xlabel(r'Gate voltage $V_g  / T$',fontsize=12)\n",
    "plt.ylabel(r'Bias voltage $V_b  / T$',fontsize=12)\n",
    "plt.plot(v_max.x[0],v_max.x[1],markerfacecolor='r',marker='X', markersize=12, markeredgecolor='k', markeredgewidth=1, label='Max power point')\n",
    "fig.savefig('fig1c.svg',dpi=300)\n",
    "plt.show()\n"
   ]
  }
 ],
 "metadata": {
  "kernelspec": {
   "display_name": "Python 3",
   "language": "python",
   "name": "python3"
  },
  "language_info": {
   "codemirror_mode": {
    "name": "ipython",
    "version": 3
   },
   "file_extension": ".py",
   "mimetype": "text/x-python",
   "name": "python",
   "nbconvert_exporter": "python",
   "pygments_lexer": "ipython3",
   "version": "3.9.19"
  }
 },
 "nbformat": 4,
 "nbformat_minor": 2
}
